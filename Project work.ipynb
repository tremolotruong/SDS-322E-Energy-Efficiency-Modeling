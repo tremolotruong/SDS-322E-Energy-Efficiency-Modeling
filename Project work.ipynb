{
 "cells": [
  {
   "cell_type": "code",
   "execution_count": 1,
   "metadata": {},
   "outputs": [],
   "source": [
    "import pandas as pd\n",
    "import numpy as np\n",
    "from sklearn import datasets\n",
    "import matplotlib.pylab as plt\n",
    "import seaborn as sns\n",
    "from sklearn import linear_model\n",
    "import matplotlib.pyplot as plt\n",
    "from sklearn.linear_model import LinearRegression \n",
    "from sklearn.linear_model import HuberRegressor \n",
    "from sklearn.model_selection import train_test_split\n",
    "import matplotlib.pyplot as plt\n",
    "import numpy as np\n",
    "from sklearn.linear_model import LogisticRegression\n",
    "from sklearn.metrics import classification_report, confusion_matrix"
   ]
  },
  {
   "cell_type": "code",
   "execution_count": 2,
   "metadata": {},
   "outputs": [],
   "source": [
    "df= pd.read_excel('ENB2012_data.xlsx')"
   ]
  },
  {
   "cell_type": "code",
   "execution_count": 3,
   "metadata": {},
   "outputs": [
    {
     "data": {
      "text/html": [
       "<div>\n",
       "<style scoped>\n",
       "    .dataframe tbody tr th:only-of-type {\n",
       "        vertical-align: middle;\n",
       "    }\n",
       "\n",
       "    .dataframe tbody tr th {\n",
       "        vertical-align: top;\n",
       "    }\n",
       "\n",
       "    .dataframe thead th {\n",
       "        text-align: right;\n",
       "    }\n",
       "</style>\n",
       "<table border=\"1\" class=\"dataframe\">\n",
       "  <thead>\n",
       "    <tr style=\"text-align: right;\">\n",
       "      <th></th>\n",
       "      <th>X1</th>\n",
       "      <th>X2</th>\n",
       "      <th>X3</th>\n",
       "      <th>X4</th>\n",
       "      <th>X5</th>\n",
       "      <th>X6</th>\n",
       "      <th>X7</th>\n",
       "      <th>X8</th>\n",
       "      <th>Y1</th>\n",
       "      <th>Y2</th>\n",
       "    </tr>\n",
       "  </thead>\n",
       "  <tbody>\n",
       "    <tr>\n",
       "      <th>0</th>\n",
       "      <td>0.98</td>\n",
       "      <td>514.5</td>\n",
       "      <td>294.0</td>\n",
       "      <td>110.25</td>\n",
       "      <td>7.0</td>\n",
       "      <td>2</td>\n",
       "      <td>0.0</td>\n",
       "      <td>0</td>\n",
       "      <td>15.55</td>\n",
       "      <td>21.33</td>\n",
       "    </tr>\n",
       "    <tr>\n",
       "      <th>1</th>\n",
       "      <td>0.98</td>\n",
       "      <td>514.5</td>\n",
       "      <td>294.0</td>\n",
       "      <td>110.25</td>\n",
       "      <td>7.0</td>\n",
       "      <td>3</td>\n",
       "      <td>0.0</td>\n",
       "      <td>0</td>\n",
       "      <td>15.55</td>\n",
       "      <td>21.33</td>\n",
       "    </tr>\n",
       "    <tr>\n",
       "      <th>2</th>\n",
       "      <td>0.98</td>\n",
       "      <td>514.5</td>\n",
       "      <td>294.0</td>\n",
       "      <td>110.25</td>\n",
       "      <td>7.0</td>\n",
       "      <td>4</td>\n",
       "      <td>0.0</td>\n",
       "      <td>0</td>\n",
       "      <td>15.55</td>\n",
       "      <td>21.33</td>\n",
       "    </tr>\n",
       "    <tr>\n",
       "      <th>3</th>\n",
       "      <td>0.98</td>\n",
       "      <td>514.5</td>\n",
       "      <td>294.0</td>\n",
       "      <td>110.25</td>\n",
       "      <td>7.0</td>\n",
       "      <td>5</td>\n",
       "      <td>0.0</td>\n",
       "      <td>0</td>\n",
       "      <td>15.55</td>\n",
       "      <td>21.33</td>\n",
       "    </tr>\n",
       "    <tr>\n",
       "      <th>4</th>\n",
       "      <td>0.90</td>\n",
       "      <td>563.5</td>\n",
       "      <td>318.5</td>\n",
       "      <td>122.50</td>\n",
       "      <td>7.0</td>\n",
       "      <td>2</td>\n",
       "      <td>0.0</td>\n",
       "      <td>0</td>\n",
       "      <td>20.84</td>\n",
       "      <td>28.28</td>\n",
       "    </tr>\n",
       "  </tbody>\n",
       "</table>\n",
       "</div>"
      ],
      "text/plain": [
       "     X1     X2     X3      X4   X5  X6   X7  X8     Y1     Y2\n",
       "0  0.98  514.5  294.0  110.25  7.0   2  0.0   0  15.55  21.33\n",
       "1  0.98  514.5  294.0  110.25  7.0   3  0.0   0  15.55  21.33\n",
       "2  0.98  514.5  294.0  110.25  7.0   4  0.0   0  15.55  21.33\n",
       "3  0.98  514.5  294.0  110.25  7.0   5  0.0   0  15.55  21.33\n",
       "4  0.90  563.5  318.5  122.50  7.0   2  0.0   0  20.84  28.28"
      ]
     },
     "execution_count": 3,
     "metadata": {},
     "output_type": "execute_result"
    }
   ],
   "source": [
    "df.head()\n"
   ]
  },
  {
   "cell_type": "code",
   "execution_count": 4,
   "metadata": {},
   "outputs": [],
   "source": [
    "df['Y3']=df['Y1']+df['Y2']"
   ]
  },
  {
   "cell_type": "code",
   "execution_count": 5,
   "metadata": {},
   "outputs": [
    {
     "name": "stdout",
     "output_type": "stream",
     "text": [
      "T and R1 Linear Regression Coefficient: [116.40958552]\n",
      "T and R1 Linear Regression Coefficient: 0.39936047259464336\n"
     ]
    },
    {
     "name": "stderr",
     "output_type": "stream",
     "text": [
      "/opt/jupyterhub/pyvenv/lib/python3.6/site-packages/ipykernel_launcher.py:23: FutureWarning: Support for multi-dimensional indexing (e.g. `obj[:, None]`) is deprecated and will be removed in a future version.  Convert to a numpy array before indexing instead.\n",
      "/opt/jupyterhub/pyvenv/lib/python3.6/site-packages/ipykernel_launcher.py:25: FutureWarning: Support for multi-dimensional indexing (e.g. `obj[:, None]`) is deprecated and will be removed in a future version.  Convert to a numpy array before indexing instead.\n"
     ]
    },
    {
     "data": {
      "image/png": "[encoded data removed]",
      "text/plain": [
       "<Figure size 432x288 with 1 Axes>"
      ]
     },
     "metadata": {
      "needs_background": "light"
     },
     "output_type": "display_data"
    }
   ],
   "source": [
    "X1=df.X1\n",
    "X2=df.X2\n",
    "X3=df.X3\n",
    "X4=df.X4\n",
    "X5=df.X5\n",
    "X6=df.X6\n",
    "X7=df.X7\n",
    "X8=df.X8\n",
    "Y1=df.Y1\n",
    "Y2=df.Y2\n",
    "Y3=df.Y3\n",
    "\n",
    "\n",
    "fig, ax = plt.subplots()\n",
    "ax.plot(X1, Y3, \"o\", color=\"purple\")\n",
    "m, b=np.polyfit(X1,Y3, deg=1)\n",
    "ax.plot(Y3, m*Y3+b,color=\"black\")\n",
    "ax.set_title(\"Linear Regression Y3 and X1\")\n",
    "ax.set_xlabel(\"Relative Compactness\")\n",
    "ax.set_ylabel(\"Heating + Cooling Load\")\n",
    "plt.ylim([0,100])\n",
    "plt.xlim([0.6,1.0])\n",
    "linear = LinearRegression().fit(X1[:, np.newaxis], Y3)\n",
    "print(\"T and R1 Linear Regression Coefficient:\",linear.coef_)\n",
    "print(\"T and R1 Linear Regression Coefficient:\",linear.score(X1[:, np.newaxis],Y3))"
   ]
  },
  {
   "cell_type": "code",
   "execution_count": 21,
   "metadata": {},
   "outputs": [
    {
     "name": "stdout",
     "output_type": "stream",
     "text": [
      "Heating+ Cooling Load and Surface Area Linear Regression Coefficient: [-0.14807111]\n",
      "Heating+ Cooling Load and Surface Area Linear Regression regression coeffcient 0.4480812390648711\n"
     ]
    },
    {
     "name": "stderr",
     "output_type": "stream",
     "text": [
      "/opt/jupyterhub/pyvenv/lib/python3.6/site-packages/ipykernel_launcher.py:1: FutureWarning: Support for multi-dimensional indexing (e.g. `obj[:, None]`) is deprecated and will be removed in a future version.  Convert to a numpy array before indexing instead.\n",
      "  \"\"\"Entry point for launching an IPython kernel.\n",
      "/opt/jupyterhub/pyvenv/lib/python3.6/site-packages/ipykernel_launcher.py:10: FutureWarning: Support for multi-dimensional indexing (e.g. `obj[:, None]`) is deprecated and will be removed in a future version.  Convert to a numpy array before indexing instead.\n",
      "  # Remove the CWD from sys.path while we load stuff.\n"
     ]
    },
    {
     "data": {
      "text/plain": [
       "(500.0, 900.0)"
      ]
     },
     "execution_count": 21,
     "metadata": {},
     "output_type": "execute_result"
    },
    {
     "data": {
      "image/png": "[encoded data removed]",
      "text/plain": [
       "<Figure size 432x288 with 1 Axes>"
      ]
     },
     "metadata": {
      "needs_background": "light"
     },
     "output_type": "display_data"
    }
   ],
   "source": [
    "linear2 = LinearRegression().fit(X2[:, np.newaxis], Y3)\n",
    "print(\"Heating+ Cooling Load and Surface Area Linear Regression Coefficient:\",linear2.coef_)\n",
    "fig, ax = plt.subplots()\n",
    "ax.plot(X2, Y3, \"o\", color=\"purple\")\n",
    "m, b=np.polyfit(X2,Y3, deg=1)\n",
    "ax.plot(Y3, m*Y3+b,color=\"black\")\n",
    "ax.set_title(\" Surface area vs Temperature load\")\n",
    "ax.set_xlabel(\"Surface Area\")\n",
    "ax.set_ylabel(\"Heating+Cooling Load\")\n",
    "print(\"Heating+ Cooling Load and Surface Area Linear Regression regression coeffcient\",linear2.score(X2[:, np.newaxis],Y3))\n",
    "plt.ylim([10,100])\n",
    "plt.xlim([500,900])"
   ]
  },
  {
   "cell_type": "code",
   "execution_count": 8,
   "metadata": {},
   "outputs": [
    {
     "name": "stderr",
     "output_type": "stream",
     "text": [
      "/opt/jupyterhub/pyvenv/lib/python3.6/site-packages/ipykernel_launcher.py:1: FutureWarning: Support for multi-dimensional indexing (e.g. `obj[:, None]`) is deprecated and will be removed in a future version.  Convert to a numpy array before indexing instead.\n",
      "  \"\"\"Entry point for launching an IPython kernel.\n",
      "/opt/jupyterhub/pyvenv/lib/python3.6/site-packages/ipykernel_launcher.py:2: FutureWarning: Support for multi-dimensional indexing (e.g. `obj[:, None]`) is deprecated and will be removed in a future version.  Convert to a numpy array before indexing instead.\n",
      "  \n",
      "/opt/jupyterhub/pyvenv/lib/python3.6/site-packages/ipykernel_launcher.py:3: FutureWarning: Support for multi-dimensional indexing (e.g. `obj[:, None]`) is deprecated and will be removed in a future version.  Convert to a numpy array before indexing instead.\n",
      "  This is separate from the ipykernel package so we can avoid doing imports until\n",
      "/opt/jupyterhub/pyvenv/lib/python3.6/site-packages/ipykernel_launcher.py:4: FutureWarning: Support for multi-dimensional indexing (e.g. `obj[:, None]`) is deprecated and will be removed in a future version.  Convert to a numpy array before indexing instead.\n",
      "  after removing the cwd from sys.path.\n",
      "/opt/jupyterhub/pyvenv/lib/python3.6/site-packages/ipykernel_launcher.py:5: FutureWarning: Support for multi-dimensional indexing (e.g. `obj[:, None]`) is deprecated and will be removed in a future version.  Convert to a numpy array before indexing instead.\n",
      "  \"\"\"\n",
      "/opt/jupyterhub/pyvenv/lib/python3.6/site-packages/ipykernel_launcher.py:6: FutureWarning: Support for multi-dimensional indexing (e.g. `obj[:, None]`) is deprecated and will be removed in a future version.  Convert to a numpy array before indexing instead.\n",
      "  \n",
      "/opt/jupyterhub/pyvenv/lib/python3.6/site-packages/ipykernel_launcher.py:7: FutureWarning: Support for multi-dimensional indexing (e.g. `obj[:, None]`) is deprecated and will be removed in a future version.  Convert to a numpy array before indexing instead.\n",
      "  import sys\n",
      "/opt/jupyterhub/pyvenv/lib/python3.6/site-packages/ipykernel_launcher.py:8: FutureWarning: Support for multi-dimensional indexing (e.g. `obj[:, None]`) is deprecated and will be removed in a future version.  Convert to a numpy array before indexing instead.\n",
      "  \n",
      "/opt/jupyterhub/pyvenv/lib/python3.6/site-packages/ipykernel_launcher.py:9: FutureWarning: Support for multi-dimensional indexing (e.g. `obj[:, None]`) is deprecated and will be removed in a future version.  Convert to a numpy array before indexing instead.\n",
      "  if __name__ == '__main__':\n",
      "/opt/jupyterhub/pyvenv/lib/python3.6/site-packages/ipykernel_launcher.py:10: FutureWarning: Support for multi-dimensional indexing (e.g. `obj[:, None]`) is deprecated and will be removed in a future version.  Convert to a numpy array before indexing instead.\n",
      "  # Remove the CWD from sys.path while we load stuff.\n",
      "/opt/jupyterhub/pyvenv/lib/python3.6/site-packages/ipykernel_launcher.py:11: FutureWarning: Support for multi-dimensional indexing (e.g. `obj[:, None]`) is deprecated and will be removed in a future version.  Convert to a numpy array before indexing instead.\n",
      "  # This is added back by InteractiveShellApp.init_path()\n",
      "/opt/jupyterhub/pyvenv/lib/python3.6/site-packages/ipykernel_launcher.py:12: FutureWarning: Support for multi-dimensional indexing (e.g. `obj[:, None]`) is deprecated and will be removed in a future version.  Convert to a numpy array before indexing instead.\n",
      "  if sys.path[0] == '':\n",
      "/opt/jupyterhub/pyvenv/lib/python3.6/site-packages/ipykernel_launcher.py:13: FutureWarning: Support for multi-dimensional indexing (e.g. `obj[:, None]`) is deprecated and will be removed in a future version.  Convert to a numpy array before indexing instead.\n",
      "  del sys.path[0]\n",
      "/opt/jupyterhub/pyvenv/lib/python3.6/site-packages/ipykernel_launcher.py:14: FutureWarning: Support for multi-dimensional indexing (e.g. `obj[:, None]`) is deprecated and will be removed in a future version.  Convert to a numpy array before indexing instead.\n",
      "  \n",
      "/opt/jupyterhub/pyvenv/lib/python3.6/site-packages/ipykernel_launcher.py:15: FutureWarning: Support for multi-dimensional indexing (e.g. `obj[:, None]`) is deprecated and will be removed in a future version.  Convert to a numpy array before indexing instead.\n",
      "  from ipykernel import kernelapp as app\n",
      "/opt/jupyterhub/pyvenv/lib/python3.6/site-packages/ipykernel_launcher.py:16: FutureWarning: Support for multi-dimensional indexing (e.g. `obj[:, None]`) is deprecated and will be removed in a future version.  Convert to a numpy array before indexing instead.\n",
      "  app.launch_new_instance()\n",
      "/opt/jupyterhub/pyvenv/lib/python3.6/site-packages/ipykernel_launcher.py:17: FutureWarning: Support for multi-dimensional indexing (e.g. `obj[:, None]`) is deprecated and will be removed in a future version.  Convert to a numpy array before indexing instead.\n",
      "/opt/jupyterhub/pyvenv/lib/python3.6/site-packages/ipykernel_launcher.py:18: FutureWarning: Support for multi-dimensional indexing (e.g. `obj[:, None]`) is deprecated and will be removed in a future version.  Convert to a numpy array before indexing instead.\n",
      "/opt/jupyterhub/pyvenv/lib/python3.6/site-packages/ipykernel_launcher.py:19: FutureWarning: Support for multi-dimensional indexing (e.g. `obj[:, None]`) is deprecated and will be removed in a future version.  Convert to a numpy array before indexing instead.\n",
      "/opt/jupyterhub/pyvenv/lib/python3.6/site-packages/ipykernel_launcher.py:20: FutureWarning: Support for multi-dimensional indexing (e.g. `obj[:, None]`) is deprecated and will be removed in a future version.  Convert to a numpy array before indexing instead.\n",
      "/opt/jupyterhub/pyvenv/lib/python3.6/site-packages/ipykernel_launcher.py:21: FutureWarning: Support for multi-dimensional indexing (e.g. `obj[:, None]`) is deprecated and will be removed in a future version.  Convert to a numpy array before indexing instead.\n",
      "/opt/jupyterhub/pyvenv/lib/python3.6/site-packages/ipykernel_launcher.py:22: FutureWarning: Support for multi-dimensional indexing (e.g. `obj[:, None]`) is deprecated and will be removed in a future version.  Convert to a numpy array before indexing instead.\n",
      "/opt/jupyterhub/pyvenv/lib/python3.6/site-packages/ipykernel_launcher.py:23: FutureWarning: Support for multi-dimensional indexing (e.g. `obj[:, None]`) is deprecated and will be removed in a future version.  Convert to a numpy array before indexing instead.\n",
      "/opt/jupyterhub/pyvenv/lib/python3.6/site-packages/ipykernel_launcher.py:24: FutureWarning: Support for multi-dimensional indexing (e.g. `obj[:, None]`) is deprecated and will be removed in a future version.  Convert to a numpy array before indexing instead.\n"
     ]
    }
   ],
   "source": [
    "linear = LinearRegression().fit(X1[:, np.newaxis], Y3)\n",
    "linear2 = LinearRegression().fit(X2[:, np.newaxis], Y3)\n",
    "linear3 = LinearRegression().fit(X3[:, np.newaxis], Y3)\n",
    "linear4 = LinearRegression().fit(X4[:, np.newaxis], Y3)\n",
    "linear5 = LinearRegression().fit(X5[:, np.newaxis], Y3)\n",
    "linear6 = LinearRegression().fit(X6[:, np.newaxis], Y3)\n",
    "linear7 = LinearRegression().fit(X7[:, np.newaxis], Y3)\n",
    "linear8 = LinearRegression().fit(X8[:, np.newaxis], Y3)\n",
    "linear9 = LinearRegression().fit(X1[:, np.newaxis], Y2)\n",
    "linear10 = LinearRegression().fit(X2[:, np.newaxis], Y2)\n",
    "linear11 = LinearRegression().fit(X3[:, np.newaxis], Y2)\n",
    "linear12 = LinearRegression().fit(X4[:, np.newaxis], Y2)\n",
    "linear13 = LinearRegression().fit(X5[:, np.newaxis], Y2)\n",
    "linear14 = LinearRegression().fit(X6[:, np.newaxis], Y2)\n",
    "linear15 = LinearRegression().fit(X7[:, np.newaxis], Y2)\n",
    "linear16 = LinearRegression().fit(X8[:, np.newaxis], Y2)\n",
    "linear17 = LinearRegression().fit(X1[:, np.newaxis], Y1)\n",
    "linear18 = LinearRegression().fit(X2[:, np.newaxis], Y1)\n",
    "linear19 = LinearRegression().fit(X3[:, np.newaxis], Y1)\n",
    "linear20 = LinearRegression().fit(X4[:, np.newaxis], Y1)\n",
    "linear21 = LinearRegression().fit(X5[:, np.newaxis], Y1)\n",
    "linear22 = LinearRegression().fit(X6[:, np.newaxis], Y1)\n",
    "linear23 = LinearRegression().fit(X7[:, np.newaxis], Y1)\n",
    "linear24 = LinearRegression().fit(X8[:, np.newaxis], Y1)\n"
   ]
  },
  {
   "cell_type": "code",
   "execution_count": 13,
   "metadata": {},
   "outputs": [
    {
     "name": "stdout",
     "output_type": "stream",
     "text": [
      "Relative Compactness and Temperature control load Linear Regression score: 0.39936047259464336\n",
      "Surface Area and Temperature Control Load Linear Regression score: 0.4480812390648711\n",
      "Wall Area and Temperature Control Load Linear Regression score: 0.19758249037575848\n",
      "Roof Area and Temperature Control Load Linear Regression score: 0.7524219707302567\n",
      "Overall Height and Temperature Control Load Linear Regression score: 0.8063047678098612\n",
      "Orientatoin and Temperature Control Load Linear Regression score: 3.177788292196837e-05\n",
      "Glazing Area and Temperature Control Load Linear Regression score: 0.05810430251930565\n",
      "Glazing Area Distribution and Temperature Control Load Linear Regression score: 0.00488764690790755\n",
      "Relative Compactness and Cooling load Linear Regression score 0.40238605107921555\n",
      "Surface Area and Temperature Cooling Load Linear Regression score 0.4529275642962767\n",
      "Wall Area and Cooling Load Linear Regression score: 0.18242892969618607\n",
      "Roof Area and Cooling Load Linear Regression score: 0.7439866432524689\n",
      "Overall Height and Cooling Load Linear Regression score: 0.8024310688076752\n",
      "Orientatoin and Cooling Load Linear Regression score: 0.00020419259888893038\n",
      "Glazing Area and Cooling Load Linear Regression score: 0.04305832135646204\n",
      "Glazing Area Distribution and Cooling Load Linear Regression score: 0.0025527876303276242\n",
      "Relative Compactness and Heating load Linear Regression score 0.3441848025892911\n",
      "Surface Area and Temperature Heating Load Linear Regression score 0.43312182523819565\n",
      "Wall Area and Heating Load Linear Regression score: 0.2076363932229236\n",
      "Roof Area and Heating Load Linear Regression score: 0.7427475904885298\n",
      "Overall Height and Heating Load Linear Regression score: 0.7910865510661972\n",
      "Orientatoin and Heating Load Linear Regression score: 6.6913417614555826e-06\n",
      "Glazing Area and Heating Load Linear Regression score: 0.07281453512707525\n",
      "Glazing Area Distribution and Heating Load Linear Regression score: 0.007633247738052407\n"
     ]
    },
    {
     "name": "stderr",
     "output_type": "stream",
     "text": [
      "/opt/jupyterhub/pyvenv/lib/python3.6/site-packages/ipykernel_launcher.py:1: FutureWarning: Support for multi-dimensional indexing (e.g. `obj[:, None]`) is deprecated and will be removed in a future version.  Convert to a numpy array before indexing instead.\n",
      "  \"\"\"Entry point for launching an IPython kernel.\n",
      "/opt/jupyterhub/pyvenv/lib/python3.6/site-packages/ipykernel_launcher.py:2: FutureWarning: Support for multi-dimensional indexing (e.g. `obj[:, None]`) is deprecated and will be removed in a future version.  Convert to a numpy array before indexing instead.\n",
      "  \n",
      "/opt/jupyterhub/pyvenv/lib/python3.6/site-packages/ipykernel_launcher.py:3: FutureWarning: Support for multi-dimensional indexing (e.g. `obj[:, None]`) is deprecated and will be removed in a future version.  Convert to a numpy array before indexing instead.\n",
      "  This is separate from the ipykernel package so we can avoid doing imports until\n",
      "/opt/jupyterhub/pyvenv/lib/python3.6/site-packages/ipykernel_launcher.py:4: FutureWarning: Support for multi-dimensional indexing (e.g. `obj[:, None]`) is deprecated and will be removed in a future version.  Convert to a numpy array before indexing instead.\n",
      "  after removing the cwd from sys.path.\n",
      "/opt/jupyterhub/pyvenv/lib/python3.6/site-packages/ipykernel_launcher.py:5: FutureWarning: Support for multi-dimensional indexing (e.g. `obj[:, None]`) is deprecated and will be removed in a future version.  Convert to a numpy array before indexing instead.\n",
      "  \"\"\"\n",
      "/opt/jupyterhub/pyvenv/lib/python3.6/site-packages/ipykernel_launcher.py:6: FutureWarning: Support for multi-dimensional indexing (e.g. `obj[:, None]`) is deprecated and will be removed in a future version.  Convert to a numpy array before indexing instead.\n",
      "  \n",
      "/opt/jupyterhub/pyvenv/lib/python3.6/site-packages/ipykernel_launcher.py:7: FutureWarning: Support for multi-dimensional indexing (e.g. `obj[:, None]`) is deprecated and will be removed in a future version.  Convert to a numpy array before indexing instead.\n",
      "  import sys\n",
      "/opt/jupyterhub/pyvenv/lib/python3.6/site-packages/ipykernel_launcher.py:8: FutureWarning: Support for multi-dimensional indexing (e.g. `obj[:, None]`) is deprecated and will be removed in a future version.  Convert to a numpy array before indexing instead.\n",
      "  \n",
      "/opt/jupyterhub/pyvenv/lib/python3.6/site-packages/ipykernel_launcher.py:9: FutureWarning: Support for multi-dimensional indexing (e.g. `obj[:, None]`) is deprecated and will be removed in a future version.  Convert to a numpy array before indexing instead.\n",
      "  if __name__ == '__main__':\n",
      "/opt/jupyterhub/pyvenv/lib/python3.6/site-packages/ipykernel_launcher.py:10: FutureWarning: Support for multi-dimensional indexing (e.g. `obj[:, None]`) is deprecated and will be removed in a future version.  Convert to a numpy array before indexing instead.\n",
      "  # Remove the CWD from sys.path while we load stuff.\n",
      "/opt/jupyterhub/pyvenv/lib/python3.6/site-packages/ipykernel_launcher.py:11: FutureWarning: Support for multi-dimensional indexing (e.g. `obj[:, None]`) is deprecated and will be removed in a future version.  Convert to a numpy array before indexing instead.\n",
      "  # This is added back by InteractiveShellApp.init_path()\n",
      "/opt/jupyterhub/pyvenv/lib/python3.6/site-packages/ipykernel_launcher.py:12: FutureWarning: Support for multi-dimensional indexing (e.g. `obj[:, None]`) is deprecated and will be removed in a future version.  Convert to a numpy array before indexing instead.\n",
      "  if sys.path[0] == '':\n",
      "/opt/jupyterhub/pyvenv/lib/python3.6/site-packages/ipykernel_launcher.py:13: FutureWarning: Support for multi-dimensional indexing (e.g. `obj[:, None]`) is deprecated and will be removed in a future version.  Convert to a numpy array before indexing instead.\n",
      "  del sys.path[0]\n",
      "/opt/jupyterhub/pyvenv/lib/python3.6/site-packages/ipykernel_launcher.py:14: FutureWarning: Support for multi-dimensional indexing (e.g. `obj[:, None]`) is deprecated and will be removed in a future version.  Convert to a numpy array before indexing instead.\n",
      "  \n",
      "/opt/jupyterhub/pyvenv/lib/python3.6/site-packages/ipykernel_launcher.py:15: FutureWarning: Support for multi-dimensional indexing (e.g. `obj[:, None]`) is deprecated and will be removed in a future version.  Convert to a numpy array before indexing instead.\n",
      "  from ipykernel import kernelapp as app\n",
      "/opt/jupyterhub/pyvenv/lib/python3.6/site-packages/ipykernel_launcher.py:16: FutureWarning: Support for multi-dimensional indexing (e.g. `obj[:, None]`) is deprecated and will be removed in a future version.  Convert to a numpy array before indexing instead.\n",
      "  app.launch_new_instance()\n",
      "/opt/jupyterhub/pyvenv/lib/python3.6/site-packages/ipykernel_launcher.py:17: FutureWarning: Support for multi-dimensional indexing (e.g. `obj[:, None]`) is deprecated and will be removed in a future version.  Convert to a numpy array before indexing instead.\n",
      "/opt/jupyterhub/pyvenv/lib/python3.6/site-packages/ipykernel_launcher.py:18: FutureWarning: Support for multi-dimensional indexing (e.g. `obj[:, None]`) is deprecated and will be removed in a future version.  Convert to a numpy array before indexing instead.\n",
      "/opt/jupyterhub/pyvenv/lib/python3.6/site-packages/ipykernel_launcher.py:19: FutureWarning: Support for multi-dimensional indexing (e.g. `obj[:, None]`) is deprecated and will be removed in a future version.  Convert to a numpy array before indexing instead.\n",
      "/opt/jupyterhub/pyvenv/lib/python3.6/site-packages/ipykernel_launcher.py:20: FutureWarning: Support for multi-dimensional indexing (e.g. `obj[:, None]`) is deprecated and will be removed in a future version.  Convert to a numpy array before indexing instead.\n",
      "/opt/jupyterhub/pyvenv/lib/python3.6/site-packages/ipykernel_launcher.py:21: FutureWarning: Support for multi-dimensional indexing (e.g. `obj[:, None]`) is deprecated and will be removed in a future version.  Convert to a numpy array before indexing instead.\n",
      "/opt/jupyterhub/pyvenv/lib/python3.6/site-packages/ipykernel_launcher.py:22: FutureWarning: Support for multi-dimensional indexing (e.g. `obj[:, None]`) is deprecated and will be removed in a future version.  Convert to a numpy array before indexing instead.\n",
      "/opt/jupyterhub/pyvenv/lib/python3.6/site-packages/ipykernel_launcher.py:23: FutureWarning: Support for multi-dimensional indexing (e.g. `obj[:, None]`) is deprecated and will be removed in a future version.  Convert to a numpy array before indexing instead.\n",
      "/opt/jupyterhub/pyvenv/lib/python3.6/site-packages/ipykernel_launcher.py:24: FutureWarning: Support for multi-dimensional indexing (e.g. `obj[:, None]`) is deprecated and will be removed in a future version.  Convert to a numpy array before indexing instead.\n"
     ]
    }
   ],
   "source": [
    "\n",
    "print(\"Relative Compactness and Temperature control load Linear Regression score:\",linear.score(X1[:, np.newaxis],Y3))\n",
    "print(\"Surface Area and Temperature Control Load Linear Regression score:\",linear2.score(X2[:, np.newaxis],Y3))\n",
    "print(\"Wall Area and Temperature Control Load Linear Regression score:\",linear3.score(X3[:, np.newaxis],Y3))\n",
    "print(\"Roof Area and Temperature Control Load Linear Regression score:\",linear4.score(X4[:, np.newaxis],Y3))\n",
    "print(\"Overall Height and Temperature Control Load Linear Regression score:\",linear5.score(X5[:, np.newaxis],Y3))\n",
    "print(\"Orientatoin and Temperature Control Load Linear Regression score:\",linear6.score(X6[:, np.newaxis],Y3))\n",
    "print(\"Glazing Area and Temperature Control Load Linear Regression score:\",linear7.score(X7[:, np.newaxis],Y3))\n",
    "print(\"Glazing Area Distribution and Temperature Control Load Linear Regression score:\",linear8.score(X8[:, np.newaxis],Y3))\n",
    "print(\"Relative Compactness and Cooling load Linear Regression score\",linear9.score(X1[:, np.newaxis],Y2))\n",
    "print(\"Surface Area and Temperature Cooling Load Linear Regression score\",linear10.score(X2[:, np.newaxis],Y2))\n",
    "print(\"Wall Area and Cooling Load Linear Regression score:\",linear11.score(X3[:, np.newaxis],Y2))\n",
    "print(\"Roof Area and Cooling Load Linear Regression score:\",linear12.score(X4[:, np.newaxis],Y2))\n",
    "print(\"Overall Height and Cooling Load Linear Regression score:\",linear13.score(X5[:, np.newaxis],Y2))\n",
    "print(\"Orientatoin and Cooling Load Linear Regression score:\",linear14.score(X6[:, np.newaxis],Y2))\n",
    "print(\"Glazing Area and Cooling Load Linear Regression score:\",linear15.score(X7[:, np.newaxis],Y2))\n",
    "print(\"Glazing Area Distribution and Cooling Load Linear Regression score:\",linear16.score(X8[:, np.newaxis],Y2))\n",
    "print(\"Relative Compactness and Heating load Linear Regression score\",linear17.score(X1[:, np.newaxis],Y2))\n",
    "print(\"Surface Area and Temperature Heating Load Linear Regression score\",linear18.score(X2[:, np.newaxis],Y1))\n",
    "print(\"Wall Area and Heating Load Linear Regression score:\",linear19.score(X3[:, np.newaxis],Y1))\n",
    "print(\"Roof Area and Heating Load Linear Regression score:\",linear20.score(X4[:, np.newaxis],Y1))\n",
    "print(\"Overall Height and Heating Load Linear Regression score:\",linear21.score(X5[:, np.newaxis],Y1))\n",
    "print(\"Orientatoin and Heating Load Linear Regression score:\",linear22.score(X6[:, np.newaxis],Y1))\n",
    "print(\"Glazing Area and Heating Load Linear Regression score:\",linear23.score(X7[:, np.newaxis],Y1))\n",
    "print(\"Glazing Area Distribution and Heating Load Linear Regression score:\",linear24.score(X8[:, np.newaxis],Y1))"
   ]
  },
  {
   "cell_type": "code",
   "execution_count": 22,
   "metadata": {},
   "outputs": [
    {
     "name": "stdout",
     "output_type": "stream",
     "text": [
      "Glazing area and heating load linear coefficieint [20.43796832]\n"
     ]
    }
   ],
   "source": [
    "print(\"Glazing area and heating load linear coefficieint\",linear23.coef_)"
   ]
  },
  {
   "cell_type": "code",
   "execution_count": null,
   "metadata": {},
   "outputs": [],
   "source": []
  }
 ],
 "metadata": {
  "kernelspec": {
   "display_name": "Python 3",
   "language": "python",
   "name": "python3"
  },
  "language_info": {
   "codemirror_mode": {
    "name": "ipython",
    "version": 3
   },
   "file_extension": ".py",
   "mimetype": "text/x-python",
   "name": "python",
   "nbconvert_exporter": "python",
   "pygments_lexer": "ipython3",
   "version": "3.6.9"
  }
 },
 "nbformat": 4,
 "nbformat_minor": 4
}
